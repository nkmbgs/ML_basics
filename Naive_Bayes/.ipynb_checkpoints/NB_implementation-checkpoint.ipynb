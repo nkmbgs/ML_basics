{
 "cells": [
  {
   "cell_type": "code",
   "execution_count": null,
   "metadata": {},
   "outputs": [],
   "source": [
    "import numpy as np"
   ]
  },
  {
   "cell_type": "code",
   "execution_count": null,
   "metadata": {},
   "outputs": [],
   "source": [
    "def fit(X_train,Y_train):\n",
    "    all_classes=set(Y_train)\n",
    "    result={}\n",
    "    result[\"total_data\"]=len(X_train)\n",
    "    for current_class in all_classes:\n",
    "        result[current_class]={}\n",
    "        current_class_rows=X_train[Y_train==current_class]\n",
    "        result[current_class][\"total_data\"]=len(current_class_rows)\n",
    "        num_features=X_train.shape[1]\n",
    "        for i in range(1,num_features+1):\n",
    "            result[current_class][i]={}\n",
    "            all_labels=set(X_train[:,i-1]) # check\n",
    "            for label in all_labels:\n",
    "                result[current_class][i][label]=(current_class_rows[:,i-1]==label).sum()\n",
    "    return result"
   ]
  },
  {
   "cell_type": "code",
   "execution_count": null,
   "metadata": {},
   "outputs": [],
   "source": [
    "def probability(dictionary,x,current_class):\n",
    "    output= np.log(dictionary[current_class]) - np.log(dictionary[\"total_data\"])\n",
    "    num_features=len(dictionary[current_class].keys()-1)\n",
    "    for j in range(1,num_features+1):\n",
    "        xj=x[j-1]\n",
    "        count_current_class_with_value_xj = dictionary[current_class][j][xj] + 1\n",
    "        count_current_class = dictionary[current_class][\"total_count\"] + len(dictionary[current_class][j].keys())\n",
    "        current_xj_probablity = np.log(count_current_class_with_value_xj) - np.log(count_current_class)\n",
    "        output = output + current_xj_probablity\n",
    "    return output"
   ]
  },
  {
   "cell_type": "code",
   "execution_count": null,
   "metadata": {},
   "outputs": [],
   "source": [
    "def predict_single_point(dictionary,x):\n",
    "    all_classes=dictionary.keys()\n",
    "    best_probability=-1000\n",
    "    best_class=-1\n",
    "    first_run=True\n",
    "    for current_class in all_classes:\n",
    "        if current_class=\"total_data\":\n",
    "            continue\n",
    "        current_class_probability=probability(dictionary,x,current_class)\n",
    "        if first_run or current_class_probability > best_probability:\n",
    "            best_probability=current_class_probability\n",
    "            best_class=current_class\n",
    "        first_run=False\n",
    "    return best_class"
   ]
  },
  {
   "cell_type": "code",
   "execution_count": null,
   "metadata": {},
   "outputs": [],
   "source": [
    "def predict(dictionary,X_test):\n",
    "    Y_pred=[]\n",
    "    for x in X_test:\n",
    "        y=predict_single_point(dictionary,x)\n",
    "        Y_pred.append(y)\n",
    "    return Y_pred"
   ]
  },
  {
   "cell_type": "code",
   "execution_count": null,
   "metadata": {},
   "outputs": [],
   "source": []
  }
 ],
 "metadata": {
  "kernelspec": {
   "display_name": "Python 3",
   "language": "python",
   "name": "python3"
  },
  "language_info": {
   "codemirror_mode": {
    "name": "ipython",
    "version": 3
   },
   "file_extension": ".py",
   "mimetype": "text/x-python",
   "name": "python",
   "nbconvert_exporter": "python",
   "pygments_lexer": "ipython3",
   "version": "3.7.1"
  }
 },
 "nbformat": 4,
 "nbformat_minor": 2
}
