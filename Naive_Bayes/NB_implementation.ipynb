{
 "cells": [
  {
   "cell_type": "code",
   "execution_count": null,
   "metadata": {},
   "outputs": [],
   "source": [
    "import numpy as np"
   ]
  },
  {
   "cell_type": "code",
   "execution_count": null,
   "metadata": {},
   "outputs": [],
   "source": [
    "def fit(X_train,Y_train):\n",
    "    all_classes=set(Y_train)\n",
    "    result={}\n",
    "    result[\"total_data\"]=len(X_train)\n",
    "    for current_class in all_classes:\n",
    "        result[current_class]={}\n",
    "        current_class_rows=X_train[Y_train==current_class]\n",
    "        result[current_class][\"total_data\"]=len(current_class_rows)\n",
    "        num_features=X_train.shape[1]\n",
    "        for i in range(1,num_features+1):\n",
    "            result[current_class][i]={}\n",
    "            all_labels=set(X_train[:,i-1]) # check\n",
    "            for label in all_labels:\n",
    "                result[current_class][i][label]=(current_class_rows[:,i-1]==label).sum()\n",
    "    return result"
   ]
  },
  {
   "cell_type": "code",
   "execution_count": null,
   "metadata": {},
   "outputs": [],
   "source": []
  },
  {
   "cell_type": "code",
   "execution_count": null,
   "metadata": {},
   "outputs": [],
   "source": []
  },
  {
   "cell_type": "code",
   "execution_count": null,
   "metadata": {},
   "outputs": [],
   "source": []
  },
  {
   "cell_type": "code",
   "execution_count": null,
   "metadata": {},
   "outputs": [],
   "source": []
  }
 ],
 "metadata": {
  "kernelspec": {
   "display_name": "Python 3",
   "language": "python",
   "name": "python3"
  },
  "language_info": {
   "codemirror_mode": {
    "name": "ipython",
    "version": 3
   },
   "file_extension": ".py",
   "mimetype": "text/x-python",
   "name": "python",
   "nbconvert_exporter": "python",
   "pygments_lexer": "ipython3",
   "version": "3.7.1"
  }
 },
 "nbformat": 4,
 "nbformat_minor": 2
}
