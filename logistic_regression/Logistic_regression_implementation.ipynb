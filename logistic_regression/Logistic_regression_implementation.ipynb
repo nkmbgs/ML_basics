{
 "cells": [
  {
   "cell_type": "code",
   "execution_count": 23,
   "metadata": {},
   "outputs": [],
   "source": [
    "import numpy as np\n",
    "import pandas as pd\n",
    "import sklearn.datasets as ds\n",
    "from sklearn import model_selection as ms"
   ]
  },
  {
   "cell_type": "code",
   "execution_count": 4,
   "metadata": {},
   "outputs": [],
   "source": [
    "data=ds.load_breast_cancer()"
   ]
  },
  {
   "cell_type": "code",
   "execution_count": 21,
   "metadata": {},
   "outputs": [],
   "source": [
    "df=pd.DataFrame(data.data,columns=data.feature_names)\n",
    "df[\"intercept\"]=1"
   ]
  },
  {
   "cell_type": "code",
   "execution_count": 22,
   "metadata": {},
   "outputs": [],
   "source": [
    "Y=data.target\n",
    "X=df.values"
   ]
  },
  {
   "cell_type": "code",
   "execution_count": 32,
   "metadata": {},
   "outputs": [],
   "source": [
    "X_train,X_test,Y_train,Y_test=ms.train_test_split(X,Y,random_state=1)"
   ]
  },
  {
   "cell_type": "markdown",
   "metadata": {},
   "source": [
    "def step_wise(points,Y_train,a,m):\n",
    "    M=points.shape[0]\n",
    "    N=points.shape[1]\n",
    "    slope_m=np.zeros(N)\n",
    "    for i in range(M):\n",
    "        y_pred=sig(m,points[i])\n",
    "    for j in range(N):\n",
    "        slope_m[j] += (-1/M)*(Y_train[i]-y_pred)*points[i,j]\n",
    "    new_slope=m-a*slope_m\n",
    "    return new_slope"
   ]
  },
  {
   "cell_type": "code",
   "execution_count": 37,
   "metadata": {},
   "outputs": [],
   "source": [
    "def stepwise(X_train,Y_train,m,l_rate):\n",
    "    m_slope=np.zeros(X_train.shape[1])\n",
    "    M=len(X_train)\n",
    "    for i in range(M):\n",
    "        temp=0\n",
    "        for j in range(len(m_slope)):\n",
    "            temp+=m[j]*X_train[i][j]\n",
    "        S=1/(1+np.exp(-temp))\n",
    "        for k in range(len(m_slope)):\n",
    "            m_slope[k] += (-1/M)*(Y_train[i]-S)*(X_train[i,k])\n",
    "        m=m-l_rate*m_slope\n",
    "    return m"
   ]
  },
  {
   "cell_type": "code",
   "execution_count": 38,
   "metadata": {},
   "outputs": [],
   "source": [
    "def gd(points,Y_train,a,num_iter):\n",
    "    m=np.zeros(points.shape[1])\n",
    "    for i in range(num_iter):\n",
    "        m=stepwise(points,Y_train,m,a)\n",
    "    return m"
   ]
  },
  {
   "cell_type": "code",
   "execution_count": 39,
   "metadata": {},
   "outputs": [],
   "source": [
    "def run():\n",
    "    a=0.001\n",
    "    num_iter=100\n",
    "    return gd(X_train,Y_train,a,num_iter)"
   ]
  },
  {
   "cell_type": "code",
   "execution_count": 40,
   "metadata": {},
   "outputs": [],
   "source": [
    "m=run()"
   ]
  },
  {
   "cell_type": "code",
   "execution_count": 42,
   "metadata": {},
   "outputs": [],
   "source": [
    "def predict(X_test,m):\n",
    "    Y_pred=np.zeros(len(X_test))\n",
    "    for i in range(len(X_test)):\n",
    "        temp=0\n",
    "        for j in range(len(m)):\n",
    "            temp+=m[j]*X_train[i][j]\n",
    "        S=1/(1+np.exp(-temp))\n",
    "        if S>=0.5:\n",
    "            Y_pred[i]=1\n",
    "        else:\n",
    "            Y_pred[i]=0\n",
    "    return Y_pred"
   ]
  },
  {
   "cell_type": "code",
   "execution_count": 49,
   "metadata": {},
   "outputs": [],
   "source": [
    "y=predict(X_test,m)"
   ]
  },
  {
   "cell_type": "code",
   "execution_count": 53,
   "metadata": {},
   "outputs": [],
   "source": [
    "ans=(y==Y_test)"
   ]
  },
  {
   "cell_type": "code",
   "execution_count": 59,
   "metadata": {},
   "outputs": [
    {
     "data": {
      "text/plain": [
       "83"
      ]
     },
     "execution_count": 59,
     "metadata": {},
     "output_type": "execute_result"
    }
   ],
   "source": [
    "count=0\n",
    "for i in ans:\n",
    "    if(not i):\n",
    "        count+=1\n",
    "count"
   ]
  },
  {
   "cell_type": "code",
   "execution_count": null,
   "metadata": {},
   "outputs": [],
   "source": []
  }
 ],
 "metadata": {
  "kernelspec": {
   "display_name": "Python 3",
   "language": "python",
   "name": "python3"
  },
  "language_info": {
   "codemirror_mode": {
    "name": "ipython",
    "version": 3
   },
   "file_extension": ".py",
   "mimetype": "text/x-python",
   "name": "python",
   "nbconvert_exporter": "python",
   "pygments_lexer": "ipython3",
   "version": "3.7.1"
  }
 },
 "nbformat": 4,
 "nbformat_minor": 2
}
