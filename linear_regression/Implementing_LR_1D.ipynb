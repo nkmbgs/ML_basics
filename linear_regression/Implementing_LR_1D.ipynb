{
 "cells": [
  {
   "cell_type": "code",
   "execution_count": 1,
   "metadata": {},
   "outputs": [],
   "source": [
    "import numpy as np"
   ]
  },
  {
   "cell_type": "code",
   "execution_count": 3,
   "metadata": {},
   "outputs": [],
   "source": [
    "boston=np.loadtxt(\"/Users/nmheights/Desktop/ML/Supervised/Linear_regression/data.csv\",delimiter=',')"
   ]
  },
  {
   "cell_type": "code",
   "execution_count": 22,
   "metadata": {},
   "outputs": [],
   "source": [
    "y=boston[:,1]\n",
    "x=boston[:,0]"
   ]
  },
  {
   "cell_type": "code",
   "execution_count": 23,
   "metadata": {},
   "outputs": [],
   "source": [
    "from sklearn import model_selection\n",
    "X_train, X_test, Y_train, Y_test = model_selection.train_test_split(x, y)"
   ]
  },
  {
   "cell_type": "code",
   "execution_count": 24,
   "metadata": {},
   "outputs": [],
   "source": [
    "def fit(x_train, y_train):\n",
    "    num = (x_train*y_train).mean() - x_train.mean() * y_train.mean()\n",
    "    den = (x_train**2).mean() - x_train.mean()**2\n",
    "    m = num/den\n",
    "    c = y_train.mean() - m * x_train.mean()\n",
    "    return m, c"
   ]
  },
  {
   "cell_type": "code",
   "execution_count": 27,
   "metadata": {},
   "outputs": [],
   "source": [
    "def predict(x_test,m,c):\n",
    "    y_pred=m*x_test+c;\n",
    "    return y_pred\n",
    "\n",
    "def CD(y_test,y_pred):\n",
    "    u=((y_test-y_pred)**2).sum()\n",
    "    v=((y_test-y_test.mean())**2).sum()\n",
    "    return 1-(u/v)\n",
    "\n",
    "def cost (x, y, m , c):\n",
    "    return ((y - m * x - c)**2).mean()\n"
   ]
  },
  {
   "cell_type": "code",
   "execution_count": 28,
   "metadata": {},
   "outputs": [
    {
     "name": "stdout",
     "output_type": "stream",
     "text": [
      "Test Score:  0.5605346535523521\n",
      "Train Score:  0.6013798638973071\n",
      "M, C  1.398347854086491 4.514436732543501\n",
      "Cost on training data  119.37956700661188\n"
     ]
    }
   ],
   "source": [
    "m, c = fit(X_train, Y_train)\n",
    "# test data\n",
    "y_test_pred = predict(X_test, m, c)\n",
    "print(\"Test Score: \",CD(Y_test, y_test_pred))\n",
    "\n",
    "#train data\n",
    "y_train_pred = predict(X_train, m, c)\n",
    "print(\"Train Score: \", CD(Y_train, y_train_pred))\n",
    "print(\"M, C \", m , c)\n",
    "print(\"Cost on training data \", cost(X_train,Y_train, m, c ))"
   ]
  },
  {
   "cell_type": "code",
   "execution_count": null,
   "metadata": {},
   "outputs": [],
   "source": []
  }
 ],
 "metadata": {
  "kernelspec": {
   "display_name": "Python 3",
   "language": "python",
   "name": "python3"
  },
  "language_info": {
   "codemirror_mode": {
    "name": "ipython",
    "version": 3
   },
   "file_extension": ".py",
   "mimetype": "text/x-python",
   "name": "python",
   "nbconvert_exporter": "python",
   "pygments_lexer": "ipython3",
   "version": "3.7.1"
  }
 },
 "nbformat": 4,
 "nbformat_minor": 2
}
