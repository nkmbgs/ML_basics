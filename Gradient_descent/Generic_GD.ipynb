{
 "cells": [
  {
   "cell_type": "code",
   "execution_count": 4,
   "metadata": {},
   "outputs": [],
   "source": [
    "import numpy as np\n",
    "from sklearn import datasets\n",
    "import pandas as pd"
   ]
  },
  {
   "cell_type": "code",
   "execution_count": 5,
   "metadata": {},
   "outputs": [
    {
     "data": {
      "text/plain": [
       "array([[-0.40784991, -0.48772236, -1.2660231 , ...,  0.41057102,\n",
       "        -1.09799011,  1.        ],\n",
       "       [-0.40737368, -0.48772236,  0.24705682, ...,  0.29116915,\n",
       "        -0.52047412,  1.        ],\n",
       "       [ 0.1251786 , -0.48772236,  1.01599907, ..., -3.79579542,\n",
       "         0.89107588,  1.        ],\n",
       "       ...,\n",
       "       [-0.40831101, -0.48772236,  0.24705682, ...,  0.33206621,\n",
       "        -0.33404299,  1.        ],\n",
       "       [-0.41061997, -0.48772236, -1.15221381, ...,  0.203235  ,\n",
       "        -0.74475218,  1.        ],\n",
       "       [ 0.34290895, -0.48772236,  1.01599907, ...,  0.38787479,\n",
       "        -1.35871335,  1.        ]])"
      ]
     },
     "execution_count": 5,
     "metadata": {},
     "output_type": "execute_result"
    }
   ],
   "source": [
    "data=np.loadtxt(\"0000000000002417_training_boston_x_y_train.csv\",delimiter=',')\n",
    "Y_train=data[:,data.shape[1]-1].copy()\n",
    "data[:,data.shape[1]-1]=1\n",
    "X_train=data\n",
    "X_train"
   ]
  },
  {
   "cell_type": "code",
   "execution_count": 6,
   "metadata": {},
   "outputs": [],
   "source": [
    "def step_wise(X_train,Y_train,m,l_rate):\n",
    "    M=len(X_train)\n",
    "    for i in range(M):\n",
    "        m_slope=np.zeros(len(m))\n",
    "        temp=0\n",
    "        for j in range(X_train.shape[1]):\n",
    "            temp += X_train[i,j]*m[j]\n",
    "        for k in range(X_train.shape[1]):\n",
    "            m_slope[k] += (-2/M)*(Y_train[i]-temp)*(X_train[i,k])\n",
    "        m=m-l_rate*m_slope\n",
    "    return m "
   ]
  },
  {
   "cell_type": "code",
   "execution_count": 7,
   "metadata": {},
   "outputs": [],
   "source": [
    "def gradient_descent(points,Y_train,a,num_iter):\n",
    "    m=np.zeros(points.shape[1])\n",
    "    for i in range(num_iter):\n",
    "        m=step_wise(points,Y_train,m,a)\n",
    "        print(i,\" Cost: \",cost(points,Y_train,m));\n",
    "    return m"
   ]
  },
  {
   "cell_type": "code",
   "execution_count": 8,
   "metadata": {},
   "outputs": [],
   "source": [
    "def cost(points,Y_train,m):\n",
    "    N=points.shape[1]\n",
    "    M=points.shape[0]\n",
    "    total_cost=0\n",
    "    for i in range(points.shape[0]):\n",
    "        x=points[i,:]\n",
    "        y=Y_train[i]\n",
    "        y_pred=0\n",
    "        for j in range(len(x)):\n",
    "            y_pred += m[j]*x[j]\n",
    "        total_cost+=(1/M)*(y-y_pred)**2\n",
    "    return total_cost"
   ]
  },
  {
   "cell_type": "code",
   "execution_count": 9,
   "metadata": {},
   "outputs": [],
   "source": [
    "def run():\n",
    "    num_iter=20\n",
    "    a=0.4\n",
    "    points=X_train\n",
    "    m=gradient_descent(points,Y_train,a,num_iter)\n",
    "    return (m)"
   ]
  },
  {
   "cell_type": "code",
   "execution_count": 10,
   "metadata": {},
   "outputs": [
    {
     "name": "stdout",
     "output_type": "stream",
     "text": [
      "0  Cost:  131.1732891523485\n",
      "1  Cost:  46.69447945701599\n",
      "2  Cost:  29.81007294877333\n",
      "3  Cost:  26.070833453256245\n",
      "4  Cost:  25.037611208806332\n",
      "5  Cost:  24.629223716215854\n",
      "6  Cost:  24.403999745994167\n",
      "7  Cost:  24.254637268348766\n",
      "8  Cost:  24.14733090915708\n",
      "9  Cost:  24.067269251841005\n",
      "10  Cost:  24.006125107299123\n",
      "11  Cost:  23.958574896540583\n",
      "12  Cost:  23.92100685992598\n",
      "13  Cost:  23.89089231252435\n",
      "14  Cost:  23.866423871574685\n",
      "15  Cost:  23.846289005200934\n",
      "16  Cost:  23.829521808375773\n",
      "17  Cost:  23.81540315975322\n",
      "18  Cost:  23.803392000232307\n",
      "19  Cost:  23.793077198947753\n"
     ]
    }
   ],
   "source": [
    "m=run()"
   ]
  },
  {
   "cell_type": "code",
   "execution_count": 29,
   "metadata": {},
   "outputs": [],
   "source": [
    "def predict(X_test):\n",
    "    Y_pred=np.zeros(len(X_test))\n",
    "    for i in range(len(X_test)):\n",
    "        for j in range(len(m)):\n",
    "            if j != 13:\n",
    "                Y_pred[i] += X_test[i,j]*m[j]\n",
    "            else:\n",
    "                Y_pred[i] +=m[j]\n",
    "    return Y_pred"
   ]
  },
  {
   "cell_type": "code",
   "execution_count": 30,
   "metadata": {},
   "outputs": [],
   "source": [
    "X_test=np.loadtxt(\"0000000000002417_test_boston_x_test.csv\",delimiter=',')"
   ]
  },
  {
   "cell_type": "code",
   "execution_count": 31,
   "metadata": {},
   "outputs": [
    {
     "data": {
      "text/plain": [
       "array([13.10257915, 28.46679334, 22.31251803, 23.71017935, 20.77117035,\n",
       "        3.23568166, 29.50894748, 24.40639403, 18.58646816, 23.16280373,\n",
       "       23.71869574, 17.72230101, 17.55206516, 21.64388745, 42.93039508,\n",
       "       23.48483195, 23.98040465, 27.4617843 , 19.86864286, 31.13399364,\n",
       "       24.13120657, 25.22821267, 34.16013917, 35.96369217, 31.41917242,\n",
       "       16.97229963, 23.35961197, 32.71586359, 25.20758868, 33.80911881,\n",
       "       16.89111473, 25.85521763, 23.23149632, 25.18119028, 15.66312226,\n",
       "       29.47589007, 25.66608415, 20.62173571, 23.78686749, 10.41572781,\n",
       "        8.86870779, 28.3495378 , 28.9551807 , 20.18776439, 20.64608821,\n",
       "        3.80833174, 39.32707489, 25.65355368, 29.06198905, 17.36804893,\n",
       "       18.36439427, 39.74274188, 18.15489471, 21.05340365, 15.63479279,\n",
       "       20.85977744, 18.3504347 , 22.77195975, 13.75013565, 17.73258069,\n",
       "       16.08330242, 29.04582994, 25.08044029, 25.13318884, 17.61813302,\n",
       "       17.9458622 , 34.5460437 , 17.58913172, 27.01098114, 22.6194578 ,\n",
       "       29.15832519, 27.38915846, 18.46561595,  6.39176252, 35.72024143,\n",
       "       24.71479904, 29.32417515, 26.45369784, 16.82105933, 32.12898081,\n",
       "       19.71790342, 22.93663396, 22.60737282,  8.25185188, 17.8749579 ,\n",
       "       28.74920242, 26.66056088,  6.45450482, 21.10476252, 20.53454421,\n",
       "       21.70756951, 20.78342792, 21.28402345, 13.96589123, 19.57601093,\n",
       "       26.6145041 , 39.3036928 , 19.01122124, 32.69512417, 26.29275597,\n",
       "       28.44864266, 21.9123006 , 25.63043411, 31.06059902, 17.97605203,\n",
       "       25.98826102, 21.19492945, 36.2201145 , 21.28178444, 17.49254307,\n",
       "       27.0939727 ,  0.49440099, 14.11271104, 16.66657502, 35.31658606,\n",
       "       21.37423556, 20.82333411, 24.91989958, 21.50243568, 19.46830052,\n",
       "       13.58570753, 34.76223868, 22.98508597, 24.46385258, 17.25065282,\n",
       "       20.98747564, 15.58069204])"
      ]
     },
     "execution_count": 31,
     "metadata": {},
     "output_type": "execute_result"
    }
   ],
   "source": [
    "Y_pred=predict(X_test)\n",
    "Y_pred"
   ]
  },
  {
   "cell_type": "code",
   "execution_count": null,
   "metadata": {},
   "outputs": [],
   "source": []
  }
 ],
 "metadata": {
  "kernelspec": {
   "display_name": "Python 3",
   "language": "python",
   "name": "python3"
  },
  "language_info": {
   "codemirror_mode": {
    "name": "ipython",
    "version": 3
   },
   "file_extension": ".py",
   "mimetype": "text/x-python",
   "name": "python",
   "nbconvert_exporter": "python",
   "pygments_lexer": "ipython3",
   "version": "3.7.1"
  }
 },
 "nbformat": 4,
 "nbformat_minor": 2
}
