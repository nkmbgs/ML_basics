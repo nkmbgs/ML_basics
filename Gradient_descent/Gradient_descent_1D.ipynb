{
 "cells": [
  {
   "cell_type": "code",
   "execution_count": 1,
   "metadata": {},
   "outputs": [],
   "source": [
    "import numpy as np"
   ]
  },
  {
   "cell_type": "code",
   "execution_count": 2,
   "metadata": {},
   "outputs": [],
   "source": [
    "data=np.loadtxt(\"/Users/nmheights/Desktop/ML/Supervised/Linear_regression/data.csv\" , delimiter=',');"
   ]
  },
  {
   "cell_type": "code",
   "execution_count": 68,
   "metadata": {},
   "outputs": [
    {
     "data": {
      "text/plain": [
       "(100, 2)"
      ]
     },
     "execution_count": 68,
     "metadata": {},
     "output_type": "execute_result"
    }
   ],
   "source": [
    "data.shape"
   ]
  },
  {
   "cell_type": "code",
   "execution_count": 72,
   "metadata": {},
   "outputs": [],
   "source": [
    "def step_wise(points,m,c,a):\n",
    "    slope_m=0\n",
    "    slope_c=0\n",
    "    N=len(points)\n",
    "    for i in range(N):\n",
    "        x=points[i,0]\n",
    "        y=points[i,1]\n",
    "        slope_m +=(-2/N) * (y - m*x - c) * (x)\n",
    "        slope_c +=(-2/N) * (y-m*x-c)\n",
    "    new_slope_m = m - a*slope_m\n",
    "    new_slope_c = c - a*slope_c\n",
    "    return new_slope_m,new_slope_c"
   ]
  },
  {
   "cell_type": "code",
   "execution_count": 65,
   "metadata": {},
   "outputs": [],
   "source": [
    "def GradientDescent(points,num_iter,a):\n",
    "    m=0\n",
    "    c=0\n",
    "    for i in range(num_iter):\n",
    "        m,c=step_wise(points,m,c,a);\n",
    "        print(i,\" \",\"Cost: \",cost(points,m,c))\n",
    "    return m,c"
   ]
  },
  {
   "cell_type": "code",
   "execution_count": null,
   "metadata": {},
   "outputs": [],
   "source": [
    "def cost(points, m, c):\n",
    "    total_cost = 0\n",
    "    M = len(points)\n",
    "    for i in range(M):\n",
    "        x = points[i, 0]\n",
    "        y = points[i, 1]\n",
    "        total_cost += (1/M)*((y - m*x - c)**2)\n",
    "    return total_cost"
   ]
  },
  {
   "cell_type": "code",
   "execution_count": 70,
   "metadata": {},
   "outputs": [],
   "source": [
    "def run():\n",
    "    points=data;\n",
    "    num_iter=10;\n",
    "    a=0.0001\n",
    "    m,c=GradientDescent(points,num_iter,a)\n",
    "    print(m,c)"
   ]
  },
  {
   "cell_type": "code",
   "execution_count": 84,
   "metadata": {},
   "outputs": [
    {
     "name": "stdout",
     "output_type": "stream",
     "text": [
      "0   Cost:  36.63476424429557\n",
      "1   Cost:  18.52630680848363\n",
      "2   Cost:  9.442826189256094\n",
      "3   Cost:  4.886412112973035\n",
      "4   Cost:  2.6008439236982754\n",
      "5   Cost:  1.4543667978404056\n",
      "6   Cost:  0.8792751888021395\n",
      "7   Cost:  0.5907993028797236\n",
      "8   Cost:  0.44609425174658024\n",
      "9   Cost:  0.37350685247326726\n",
      "1.47741737554838 0.029639347874732384\n"
     ]
    }
   ],
   "source": [
    "run()"
   ]
  },
  {
   "cell_type": "code",
   "execution_count": null,
   "metadata": {},
   "outputs": [],
   "source": []
  }
 ],
 "metadata": {
  "kernelspec": {
   "display_name": "Python 3",
   "language": "python",
   "name": "python3"
  },
  "language_info": {
   "codemirror_mode": {
    "name": "ipython",
    "version": 3
   },
   "file_extension": ".py",
   "mimetype": "text/x-python",
   "name": "python",
   "nbconvert_exporter": "python",
   "pygments_lexer": "ipython3",
   "version": "3.7.1"
  }
 },
 "nbformat": 4,
 "nbformat_minor": 2
}
